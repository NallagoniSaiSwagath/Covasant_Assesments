{
 "cells": [
  {
   "cell_type": "code",
   "execution_count": 1,
   "id": "3812287b-0524-4a78-a4df-49626f4f72e8",
   "metadata": {},
   "outputs": [],
   "source": [
    "\n",
    "\n",
    "import numpy as np\n",
    "import pandas as pd\n",
    "import matplotlib.pyplot as plt\n"
   ]
  },
  {
   "cell_type": "code",
   "execution_count": 2,
   "id": "f2f9f27e-33ea-4273-bf11-f63d6d9bf3a1",
   "metadata": {},
   "outputs": [],
   "source": [
    "from sklearn.model_selection import train_test_split, cross_val_score\n",
    "from sklearn.preprocessing import LabelEncoder\n",
    "from sklearn.pipeline import Pipeline\n",
    "from sklearn.compose import ColumnTransformer\n",
    "from sklearn.impute import SimpleImputer\n",
    "from sklearn.ensemble import RandomForestClassifier, ExtraTreesClassifier, AdaBoostClassifier, GradientBoostingClassifier\n",
    "from sklearn.tree import DecisionTreeClassifier\n",
    "from sklearn.metrics import accuracy_score"
   ]
  },
  {
   "cell_type": "code",
   "execution_count": 16,
   "id": "2da1d8f6-9edf-4ce1-b907-344b3cb62834",
   "metadata": {},
   "outputs": [
    {
     "name": "stdout",
     "output_type": "stream",
     "text": [
      "   Unnamed: 0 experience                                    job_description  \\\n",
      "0           0    5-7 yrs  Exp: Minimum 5 years;Good understanding of IOC...   \n",
      "1           1  10-17 yrs  He should have handled a team of atleast 5-6 d...   \n",
      "2           2    5-9 yrs  Must be an effective communicator (written & s...   \n",
      "3           3   7-10 yrs  7  -  10 years of overall experience in data e...   \n",
      "4           4    1-3 yrs  Chartered Accountancy degree or MBA in Finance...   \n",
      "\n",
      "                                           job_desig   job_type  \\\n",
      "0        Senior Exploit and Vulnerability Researcher        NaN   \n",
      "1                                           Head SCM        NaN   \n",
      "2  Deputy Manager - Talent Management & Leadershi...  Analytics   \n",
      "3                 Associate Manager Data Engineering  Analytics   \n",
      "4                            TS- GSA- Senior Analyst        NaN   \n",
      "\n",
      "                                          key_skills               location  \\\n",
      "0  team skills, communication skills, analytical ...  Delhi NCR(Vikas Puri)   \n",
      "1  ppc, logistics, inventory management, supply c...                Sonepat   \n",
      "2  HR Analytics, Employee Engagement, Training, S...              Delhi NCR   \n",
      "3  SQL, Javascript, Automation, Python, Ruby, Ana...              Bengaluru   \n",
      "4  accounting, finance, cash flow, financial plan...                Gurgaon   \n",
      "\n",
      "   salary  company_name_encoded  \n",
      "0   6to10                  3687  \n",
      "1  10to15                   458  \n",
      "2  15to25                  4195  \n",
      "3  10to15                   313  \n",
      "4    3to6                  1305  \n"
     ]
    }
   ],
   "source": [
    "path=r\"C:\\Users\\Swagath\\Desktop\\Predict-The-Data-Scientists-Salary-In-India_Train_Dataset.csv\"\n",
    "df = pd.read_csv(path)\n",
    "\n",
    "print(df.head())\n"
   ]
  },
  {
   "cell_type": "code",
   "execution_count": 6,
   "id": "d0b768c8-a7db-4b3d-bd89-285592054f84",
   "metadata": {},
   "outputs": [
    {
     "name": "stdout",
     "output_type": "stream",
     "text": [
      "Index(['experience', 'job_description', 'job_desig', 'job_type', 'key_skills',\n",
      "       'location', 'company_name_encoded'],\n",
      "      dtype='object')\n"
     ]
    }
   ],
   "source": [
    "print(df.columns)"
   ]
  },
  {
   "cell_type": "code",
   "execution_count": 7,
   "id": "2a419641-7064-41a9-984e-79eb141a5f85",
   "metadata": {
    "scrolled": true
   },
   "outputs": [
    {
     "data": {
      "text/plain": [
       "0       7-12 yrs\n",
       "1        0-5 yrs\n",
       "2        3-6 yrs\n",
       "3        0-3 yrs\n",
       "4        0-5 yrs\n",
       "          ...   \n",
       "6596     4-7 yrs\n",
       "6597     1-5 yrs\n",
       "6598    5-10 yrs\n",
       "6599    7-12 yrs\n",
       "6600     3-8 yrs\n",
       "Name: experience, Length: 6601, dtype: object"
      ]
     },
     "execution_count": 7,
     "metadata": {},
     "output_type": "execute_result"
    }
   ],
   "source": [
    "df['experience']"
   ]
  },
  {
   "cell_type": "code",
   "execution_count": 11,
   "id": "068a286c-5d6a-43e8-bf0c-a7a3ad5834bf",
   "metadata": {},
   "outputs": [],
   "source": [
    "df[['min_exp', 'max_exp']] = df['experience'].str.split('-', expand=True)\n",
    "df['min_exp'] = pd.to_numeric(df['min_exp'], errors='coerce')\n",
    "df['max_exp'] = pd.to_numeric(df['max_exp'], errors='coerce')"
   ]
  },
  {
   "cell_type": "code",
   "execution_count": 25,
   "id": "c75604c9-d223-4258-8d77-37af04a711b0",
   "metadata": {},
   "outputs": [],
   "source": [
    "le_location = LabelEncoder()\n",
    "le_salary = LabelEncoder()\n",
    "\n",
    "df['Location_encoded'] = le_location.fit_transform(df['location'])\n",
    "df['Salary_encoded'] = le_salary.fit_transform(df['salary'])\n",
    "\n",
    "\n",
    "X = df[['company_name_encoded',  'Location_encoded']]\n",
    "y = df['Salary_encoded']\n"
   ]
  },
  {
   "cell_type": "code",
   "execution_count": 22,
   "id": "78b0c59c-7cfa-4079-942e-25fbc3d16593",
   "metadata": {},
   "outputs": [
    {
     "data": {
      "text/plain": [
       "Index(['Unnamed: 0', 'experience', 'job_description', 'job_desig', 'job_type',\n",
       "       'key_skills', 'location', 'salary', 'company_name_encoded',\n",
       "       'Location_encoded'],\n",
       "      dtype='object')"
      ]
     },
     "execution_count": 22,
     "metadata": {},
     "output_type": "execute_result"
    }
   ],
   "source": [
    "df.columns"
   ]
  },
  {
   "cell_type": "code",
   "execution_count": 26,
   "id": "a6b3828e-73ec-4bd4-8515-f1f3e630ef96",
   "metadata": {},
   "outputs": [],
   "source": [
    "X_train, X_val, y_train, y_val = train_test_split(X, y, test_size=0.2, random_state=42)"
   ]
  },
  {
   "cell_type": "code",
   "execution_count": 27,
   "id": "734d66f3-f43d-4c3e-856a-20c31c17a3b1",
   "metadata": {},
   "outputs": [],
   "source": [
    "classifiers = {\n",
    "    \"Decision Tree\": DecisionTreeClassifier(),\n",
    "    \"Random Forest\": RandomForestClassifier(n_estimators=100),\n",
    "    \"Extra Trees\": ExtraTreesClassifier(n_estimators=100),\n",
    "    \"AdaBoost\": AdaBoostClassifier(n_estimators=100),\n",
    "    \"Gradient Boosting\": GradientBoostingClassifier(n_estimators=100)\n",
    "}\n"
   ]
  },
  {
   "cell_type": "code",
   "execution_count": 28,
   "id": "d3db5fee-dc98-45f8-b85d-ce7b1c3c1a57",
   "metadata": {},
   "outputs": [
    {
     "name": "stdout",
     "output_type": "stream",
     "text": [
      "Accuracy scores:\n",
      " {'Decision Tree': 0.35521332996718, 'Random Forest': 0.35698056046452914, 'Extra Trees': 0.35900025246149964, 'AdaBoost': 0.2638222671042666, 'Gradient Boosting': 0.3337541024993688}\n"
     ]
    }
   ],
   "source": [
    "results = {}\n",
    "for name, clf in classifiers.items():\n",
    "    clf.fit(X_train, y_train)\n",
    "    y_pred = clf.predict(X_val)\n",
    "    acc = accuracy_score(y_val, y_pred)\n",
    "    results[name] = acc\n",
    "\n",
    "print(\"Accuracy scores:\\n\", results)"
   ]
  },
  {
   "cell_type": "code",
   "execution_count": 29,
   "id": "42d51aa5-7bf2-4257-b333-4fce60dc98c2",
   "metadata": {},
   "outputs": [
    {
     "name": "stdout",
     "output_type": "stream",
     "text": [
      "Best Model: Extra Trees\n"
     ]
    }
   ],
   "source": [
    "best_model_name = max(results, key=results.get)\n",
    "print(\"Best Model:\", best_model_name)"
   ]
  },
  {
   "cell_type": "code",
   "execution_count": null,
   "id": "6a1d11ed-6715-426d-bc7a-c365f8b01395",
   "metadata": {},
   "outputs": [],
   "source": []
  }
 ],
 "metadata": {
  "kernelspec": {
   "display_name": "Python 3 (ipykernel)",
   "language": "python",
   "name": "python3"
  },
  "language_info": {
   "codemirror_mode": {
    "name": "ipython",
    "version": 3
   },
   "file_extension": ".py",
   "mimetype": "text/x-python",
   "name": "python",
   "nbconvert_exporter": "python",
   "pygments_lexer": "ipython3",
   "version": "3.12.8"
  }
 },
 "nbformat": 4,
 "nbformat_minor": 5
}
